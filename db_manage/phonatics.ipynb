{
 "cells": [
  {
   "cell_type": "code",
   "execution_count": 139,
   "metadata": {},
   "outputs": [],
   "source": [
    "import pandas as pd\n",
    "import numpy as np\n",
    "import pickle \n",
    "import os"
   ]
  },
  {
   "cell_type": "code",
   "execution_count": 140,
   "metadata": {},
   "outputs": [
    {
     "name": "stdout",
     "output_type": "stream",
     "text": [
      "0        JAN JAGRAN TIMES\n",
      "1        JAGRAN CITY PLUS\n",
      "2         SAMPURNA JAGRAN\n",
      "3           DAINIK JAGRAN\n",
      "4           VISHWA JAGRAN\n",
      "               ...       \n",
      "21394        KAIWART AWAZ\n",
      "21395     SARBAHARAR AWAZ\n",
      "21396      SHRAMIKER AWAZ\n",
      "21397          SOBAR AWAZ\n",
      "21398        AWAZ AAP TAK\n",
      "Name: Title Name, Length: 10790, dtype: object\n"
     ]
    }
   ],
   "source": [
    "\n",
    "# Step 1: Open the file in read-binary mode\n",
    "with open('data.pkl', 'rb') as file:\n",
    "    # Step 2: Load the data from the file\n",
    "    data = pickle.load(file)\n",
    "\n",
    "# Now, `data` contains the deserialized Python object\n",
    "print(data)\n"
   ]
  },
  {
   "cell_type": "code",
   "execution_count": 141,
   "metadata": {},
   "outputs": [
    {
     "name": "stdout",
     "output_type": "stream",
     "text": [
      "0        jan jagran times\n",
      "1        jagran city plus\n",
      "2         sampurna jagran\n",
      "3           dainik jagran\n",
      "4           vishwa jagran\n",
      "               ...       \n",
      "21394        kaiwart awaz\n",
      "21395     sarbaharar awaz\n",
      "21396      shramiker awaz\n",
      "21397          sobar awaz\n",
      "21398        awaz aap tak\n",
      "Name: Title Name, Length: 10790, dtype: object\n"
     ]
    }
   ],
   "source": [
    "data = data.str.lower()\n",
    "print(data)"
   ]
  },
  {
   "cell_type": "code",
   "execution_count": 142,
   "metadata": {},
   "outputs": [],
   "source": [
    "data = pd.DataFrame(data)\n",
    "data = data.drop_duplicates().dropna()"
   ]
  },
  {
   "cell_type": "code",
   "execution_count": 127,
   "metadata": {},
   "outputs": [
    {
     "name": "stderr",
     "output_type": "stream",
     "text": [
      "[nltk_data] Downloading package stopwords to\n",
      "[nltk_data]     C:\\Users\\Debanjan\\AppData\\Roaming\\nltk_data...\n",
      "[nltk_data]   Package stopwords is already up-to-date!\n",
      "[nltk_data] Downloading package punkt to\n",
      "[nltk_data]     C:\\Users\\Debanjan\\AppData\\Roaming\\nltk_data...\n",
      "[nltk_data]   Package punkt is already up-to-date!\n"
     ]
    }
   ],
   "source": [
    "import pandas as pd\n",
    "from nltk.corpus import stopwords\n",
    "from nltk.tokenize import word_tokenize\n",
    "import string\n",
    "\n",
    "# Download stopwords if not already done\n",
    "import nltk\n",
    "nltk.download('stopwords')\n",
    "nltk.download('punkt')\n",
    "\n",
    "# Get English stopwords\n",
    "stop_words = set(stopwords.words('english'))\n",
    "\n",
    "# Function to clean text by removing stopwords and punctuation\n",
    "def clean_text(text):\n",
    "    if pd.isnull(text):\n",
    "        return \"\"\n",
    "    # Tokenize text into words\n",
    "    tokens = word_tokenize(text)\n",
    "    # Convert to lowercase and remove punctuation and stopwords\n",
    "    cleaned = [\n",
    "        word.lower() for word in tokens\n",
    "        if word.lower() not in stop_words and word not in string.punctuation\n",
    "    ]\n",
    "    return \"\".join(cleaned)  # Return as a single string for n-gram generation"
   ]
  },
  {
   "cell_type": "code",
   "execution_count": 143,
   "metadata": {},
   "outputs": [],
   "source": [
    "# Rename column\n",
    "from metaphone import doublemetaphone\n",
    "\n",
    "data.rename(columns={'Title Name': 'title'}, inplace=True)\n",
    "data['metaphoneA'], data['metaphoneB'] = zip(*data['title'].apply(doublemetaphone))\n"
   ]
  },
  {
   "cell_type": "code",
   "execution_count": 144,
   "metadata": {},
   "outputs": [],
   "source": [
    "data.to_csv('phonatics.csv', index=False)"
   ]
  },
  {
   "cell_type": "code",
   "execution_count": 130,
   "metadata": {},
   "outputs": [
    {
     "name": "stdout",
     "output_type": "stream",
     "text": [
      "HNTKRNKS \n"
     ]
    }
   ],
   "source": [
    "# Example input query\n",
    "query =\"The Hindu Chronics\"\n",
    "query =   clean_text(query)\n",
    "query_metaphoneA, query_metaphoneB = doublemetaphone(query)\n",
    "print(query_metaphoneA, query_metaphoneB)"
   ]
  },
  {
   "cell_type": "code",
   "execution_count": 131,
   "metadata": {},
   "outputs": [],
   "source": [
    "import pandas as pd\n",
    "from rapidfuzz import fuzz  # Faster alternative to fuzzywuzzy\n",
    "\n",
    "\n",
    "# Threshold for fuzzy match\n",
    "similarity_threshold = 70\n",
    "\n",
    "# Function to find matches for double metaphones\n",
    "def find_double_metaphone_matches(input_metaphoneA, input_metaphoneB, data, threshold=80):\n",
    "    matches = []\n",
    "    for _, row in data.iterrows():\n",
    "        # Calculate similarity scores for both metaphones\n",
    "        score_A = fuzz.ratio(input_metaphoneA, row['metaphoneA']) if row['metaphoneA'] else 0\n",
    "        score_B = fuzz.ratio(input_metaphoneB, row['metaphoneB']) if row['metaphoneB'] else 0\n",
    "        \n",
    "        # Check if either score exceeds the threshold\n",
    "        if score_A >= threshold or score_B >= threshold:\n",
    "            matches.append({\n",
    "                \"title\": row['title'],\n",
    "                \"metaphoneA\": row['metaphoneA'],\n",
    "                \"metaphoneB\": row['metaphoneB'],\n",
    "                \"similarity_score_A\": score_A,\n",
    "                \"similarity_score_B\": score_B\n",
    "            })\n",
    "    \n",
    "    return matches\n",
    "\n",
    "# Find matches\n",
    "matches = find_double_metaphone_matches(query_metaphoneA, query_metaphoneB, data, similarity_threshold)\n",
    "\n",
    "# Sort results by the highest similarity score (from either metaphone column)\n",
    "matches = sorted(matches, key=lambda x: max(x['similarity_score_A'], x['similarity_score_B']), reverse=True)\n",
    "\n",
    "# Display results\n",
    "\n"
   ]
  },
  {
   "cell_type": "code",
   "execution_count": 133,
   "metadata": {},
   "outputs": [
    {
     "name": "stdout",
     "output_type": "stream",
     "text": [
      "[{'title': 'india grains', 'metaphoneA': 'ANTKRNS', 'metaphoneB': '', 'similarity_score_A': 80.0, 'similarity_score_B': 0}, {'title': 'india core news', 'metaphoneA': 'ANTKRNS', 'metaphoneB': '', 'similarity_score_A': 80.0, 'similarity_score_B': 0}, {'title': 'mahanagar ki awaz', 'metaphoneA': 'MHNKRKS', 'metaphoneB': 'MHNKRKTS', 'similarity_score_A': 80.0, 'similarity_score_B': 0.0}, {'title': 'mahanagar ki aawaz', 'metaphoneA': 'MHNKRKS', 'metaphoneB': 'MHNKRKTS', 'similarity_score_A': 80.0, 'similarity_score_B': 0.0}, {'title': 'haryana ki aawaz', 'metaphoneA': 'HRNKS', 'metaphoneB': 'HRNKTS', 'similarity_score_A': 76.92307692307692, 'similarity_score_B': 0.0}, {'title': 'narwana ki awaz', 'metaphoneA': 'NRNKS', 'metaphoneB': 'NRNKTS', 'similarity_score_A': 76.92307692307692, 'similarity_score_B': 0.0}, {'title': 'tarunai ki awaz', 'metaphoneA': 'TRNKS', 'metaphoneB': 'TRNKTS', 'similarity_score_A': 76.92307692307692, 'similarity_score_B': 0.0}, {'title': 'nagaur ki awaz', 'metaphoneA': 'NKRKS', 'metaphoneB': 'NKRKTS', 'similarity_score_A': 76.92307692307692, 'similarity_score_B': 0.0}, {'title': 'deccan ki awaz', 'metaphoneA': 'TKNKS', 'metaphoneB': 'TKNKTS', 'similarity_score_A': 76.92307692307692, 'similarity_score_B': 0.0}, {'title': 'dukhiyon ki awaz', 'metaphoneA': 'TKNKS', 'metaphoneB': 'TKNKTS', 'similarity_score_A': 76.92307692307692, 'similarity_score_B': 0.0}, {'title': 'india group news', 'metaphoneA': 'ANTKRPNS', 'metaphoneB': '', 'similarity_score_A': 75.0, 'similarity_score_B': 0}, {'title': 'hindustan ki awaz', 'metaphoneA': 'HNTSTNKS', 'metaphoneB': 'HNTSTNKTS', 'similarity_score_A': 75.0, 'similarity_score_B': 0.0}, {'title': 'indergarh ki awaz', 'metaphoneA': 'ANTRKRKS', 'metaphoneB': 'ANTRKRKTS', 'similarity_score_A': 75.0, 'similarity_score_B': 0.0}, {'title': 'india king', 'metaphoneA': 'ANTKNK', 'metaphoneB': '', 'similarity_score_A': 71.42857142857143, 'similarity_score_B': 0}, {'title': 'india awareness', 'metaphoneA': 'ANTRNS', 'metaphoneB': '', 'similarity_score_A': 71.42857142857143, 'similarity_score_B': 0}, {'title': 'hello indians', 'metaphoneA': 'HLNTNS', 'metaphoneB': '', 'similarity_score_A': 71.42857142857143, 'similarity_score_B': 0}, {'title': 'india craze', 'metaphoneA': 'ANTKRS', 'metaphoneB': '', 'similarity_score_A': 71.42857142857143, 'similarity_score_B': 0}, {'title': 'india reigns', 'metaphoneA': 'ANTRNS', 'metaphoneB': 'ANTRKNS', 'similarity_score_A': 71.42857142857143, 'similarity_score_B': 0.0}, {'title': 'janadhik ki awaz', 'metaphoneA': 'JNTKKS', 'metaphoneB': 'ANTKKTS', 'similarity_score_A': 71.42857142857143, 'similarity_score_B': 0.0}, {'title': 'chhatron ki awaz', 'metaphoneA': 'KTRNKS', 'metaphoneB': 'KTRNKTS', 'similarity_score_A': 71.42857142857143, 'similarity_score_B': 0.0}, {'title': 'karnal ki awaz', 'metaphoneA': 'KRNLKS', 'metaphoneB': 'KRNLKTS', 'similarity_score_A': 71.42857142857143, 'similarity_score_B': 0.0}, {'title': 'nandgaon awaz', 'metaphoneA': 'NNTKNS', 'metaphoneB': 'NNTKNTS', 'similarity_score_A': 71.42857142857143, 'similarity_score_B': 0.0}, {'title': 'shaheedon ki awaz', 'metaphoneA': 'XHTNKS', 'metaphoneB': 'XHTNKTS', 'similarity_score_A': 71.42857142857143, 'similarity_score_B': 0.0}, {'title': 'songarh ki awaz', 'metaphoneA': 'SNKRKS', 'metaphoneB': 'SNKRKTS', 'similarity_score_A': 71.42857142857143, 'similarity_score_B': 0.0}, {'title': 'chhindwara ki awaz', 'metaphoneA': 'KNTRKS', 'metaphoneB': 'KNTRKTS', 'similarity_score_A': 71.42857142857143, 'similarity_score_B': 0.0}, {'title': 'andhere ki awaz', 'metaphoneA': 'ANTRKS', 'metaphoneB': 'ANTRKTS', 'similarity_score_A': 71.42857142857143, 'similarity_score_B': 0.0}, {'title': 'indore ki aawaz', 'metaphoneA': 'ANTRKS', 'metaphoneB': 'ANTRKTS', 'similarity_score_A': 71.42857142857143, 'similarity_score_B': 0.0}, {'title': 'gondwana ki awaz', 'metaphoneA': 'KNTNKS', 'metaphoneB': 'KNTNKTS', 'similarity_score_A': 71.42857142857143, 'similarity_score_B': 0.0}, {'title': 'khabron ki awaz', 'metaphoneA': 'KPRNKS', 'metaphoneB': 'KPRNKTS', 'similarity_score_A': 71.42857142857143, 'similarity_score_B': 0.0}, {'title': 'krishna ki awaz', 'metaphoneA': 'KRXNKS', 'metaphoneB': 'KRXNKTS', 'similarity_score_A': 71.42857142857143, 'similarity_score_B': 0.0}, {'title': 'adhikar ki awaz', 'metaphoneA': 'ATKRKS', 'metaphoneB': 'ATKRKTS', 'similarity_score_A': 71.42857142857143, 'similarity_score_B': 0.0}, {'title': 'lohagarh ki awaz', 'metaphoneA': 'LHKRKS', 'metaphoneB': 'LHKRKTS', 'similarity_score_A': 71.42857142857143, 'similarity_score_B': 0.0}, {'title': 'dhundhar ki awaz', 'metaphoneA': 'TNTRKS', 'metaphoneB': 'TNTRKTS', 'similarity_score_A': 71.42857142857143, 'similarity_score_B': 0.0}, {'title': 'sangaria ki awaz', 'metaphoneA': 'SNKRKS', 'metaphoneB': 'SNKRKTS', 'similarity_score_A': 71.42857142857143, 'similarity_score_B': 0.0}, {'title': 'jaitaran ke awaz', 'metaphoneA': 'JTRNKS', 'metaphoneB': 'ATRNKTS', 'similarity_score_A': 71.42857142857143, 'similarity_score_B': 0.0}, {'title': 'harigarh ki awaz', 'metaphoneA': 'HRKRKS', 'metaphoneB': 'HRKRKTS', 'similarity_score_A': 71.42857142857143, 'similarity_score_B': 0.0}, {'title': 'janadhik ke awaz', 'metaphoneA': 'JNTKKS', 'metaphoneB': 'ANTKKTS', 'similarity_score_A': 71.42857142857143, 'similarity_score_B': 0.0}, {'title': 'haridwar ki awaz', 'metaphoneA': 'HRTRKS', 'metaphoneB': 'HRTRKTS', 'similarity_score_A': 71.42857142857143, 'similarity_score_B': 0.0}, {'title': 'dandakaranya times', 'metaphoneA': 'TNTKRNTMS', 'metaphoneB': '', 'similarity_score_A': 70.58823529411764, 'similarity_score_B': 0}, {'title': 'india cargo awards', 'metaphoneA': 'ANTKRKRTS', 'metaphoneB': '', 'similarity_score_A': 70.58823529411764, 'similarity_score_B': 0}, {'title': 'indian currents', 'metaphoneA': 'ANTNKRNTS', 'metaphoneB': '', 'similarity_score_A': 70.58823529411764, 'similarity_score_B': 0}, {'title': 'lunakaransar ki awaz', 'metaphoneA': 'LNKRNSRKS', 'metaphoneB': 'LNKRNSRKTS', 'similarity_score_A': 70.58823529411764, 'similarity_score_B': 0.0}, {'title': 'hindustani awam ki awaz', 'metaphoneA': 'HNTSTNMKS', 'metaphoneB': 'HNTSTNMKTS', 'similarity_score_A': 70.58823529411764, 'similarity_score_B': 0.0}, {'title': 'hindusthan awam ki awaz', 'metaphoneA': 'HNTS0NMKS', 'metaphoneB': 'HNTSTNMKTS', 'similarity_score_A': 70.58823529411764, 'similarity_score_B': 0.0}, {'title': 'all india criminal cases', 'metaphoneA': 'ALNTKRMNLKSS', 'metaphoneB': '', 'similarity_score_A': 70.0, 'similarity_score_B': 0}]\n"
     ]
    }
   ],
   "source": [
    "print(matches)                          "
   ]
  },
  {
   "cell_type": "code",
   "execution_count": 134,
   "metadata": {},
   "outputs": [],
   "source": [
    "import pandas as pd\n",
    "from nltk.util import ngrams\n",
    "\n",
    "\n",
    "# Generate n-grams for a given column\n",
    "def generate_ngrams_range(column, n_range=(3,3)):\n",
    "    def create_ngrams(text):\n",
    "        if pd.isnull(text):\n",
    "            return []\n",
    "        combined_ngrams = []\n",
    "        for n in range(n_range[0], n_range[1] + 1):\n",
    "            combined_ngrams.extend(list(ngrams(text, n)))\n",
    "        return combined_ngrams\n",
    "    \n",
    "    return column.apply(create_ngrams)\n",
    "\n",
    "# Function to calculate n-gram similarity\n"
   ]
  },
  {
   "cell_type": "code",
   "execution_count": 135,
   "metadata": {},
   "outputs": [
    {
     "name": "stdout",
     "output_type": "stream",
     "text": [
      "                  title metaphoneA metaphoneB\n",
      "0      jan jagran times  JNJKRNTMS  ANJKRNTMS\n",
      "1      jagran city plus  JKRNSTPLS  AKRNSTPLS\n",
      "2       sampurna jagran  SMPRNJKRN           \n",
      "3         dainik jagran    TNKJKRN           \n",
      "4         vishwa jagran     FXJKRN           \n",
      "...                 ...        ...        ...\n",
      "21394      kaiwart awaz       KRTS      KRTTS\n",
      "21395   sarbaharar awaz    SRPHRRS   SRPHRRTS\n",
      "21396    shramiker awaz     XRMKRS    XRMKRTS\n",
      "21397        sobar awaz       SPRS      SPRTS\n",
      "21398      awaz aap tak      ASPTK     ATSPTK\n",
      "\n",
      "[10790 rows x 3 columns]\n"
     ]
    }
   ],
   "source": [
    "print (data)"
   ]
  },
  {
   "cell_type": "code",
   "execution_count": 137,
   "metadata": {},
   "outputs": [],
   "source": [
    "data.to_csv('n_grams.csv', index=False)"
   ]
  },
  {
   "cell_type": "code",
   "execution_count": 136,
   "metadata": {},
   "outputs": [
    {
     "name": "stdout",
     "output_type": "stream",
     "text": [
      "Empty DataFrame\n",
      "Columns: []\n",
      "Index: []\n"
     ]
    }
   ],
   "source": [
    "import pandas as pd\n",
    "from nltk.util import ngrams\n",
    "\n",
    "# Function to calculate n-gram similarity\n",
    "def calculate_ngram_similarity(input_ngrams, target_ngrams):\n",
    "    if not input_ngrams or not target_ngrams:\n",
    "        return 0\n",
    "    overlap = set(input_ngrams).intersection(set(target_ngrams))\n",
    "    return (len(overlap) / len(input_ngrams)) * 100\n",
    "\n",
    "# Function to generate n-grams for a range of n values\n",
    "def generate_ngrams_range(text, n_range=(3,3)):\n",
    "    if not text:\n",
    "        return []\n",
    "    combined_ngrams = []\n",
    "    for n in range(n_range[0], n_range[1] + 1):\n",
    "        combined_ngrams.extend(list(ngrams(text, n)))\n",
    "    return combined_ngrams\n",
    "\n",
    "# Function to find matches based on n-gram similarity\n",
    "def find_ngram_matches(input_metaphone_a, input_metaphone_b, threshold=20, n_range=(2, 4)):\n",
    "    # Generate n-grams for input metaphones\n",
    "    input_ngram_a = generate_ngrams_range(input_metaphone_a, n_range)\n",
    "    input_ngram_b = generate_ngrams_range(input_metaphone_b, n_range)\n",
    "    \n",
    "    results = []\n",
    "    for _, row in data.iterrows():\n",
    "        sim_a = calculate_ngram_similarity(input_ngram_a, row['ngram_a'])\n",
    "        sim_b = calculate_ngram_similarity(input_ngram_b, row['ngram_b'])\n",
    "        \n",
    "        if sim_a > threshold or sim_b > threshold:\n",
    "            results.append({\n",
    "                'title': row['title'],\n",
    "                'metaphoneA': row['metaphoneA'],\n",
    "                'metaphoneB': row['metaphoneB'],\n",
    "                'similarity_a': sim_a,\n",
    "                'similarity_b': sim_b\n",
    "            })\n",
    "    \n",
    "    return pd.DataFrame(results)\n",
    "\n",
    "\n",
    "# Generate n-grams for the data\n",
    "data['ngram_a'] = data['metaphoneA'].apply(lambda x: generate_ngrams_range(x, n_range=(3, 3)))\n",
    "data['ngram_b'] = data['metaphoneB'].apply(lambda x: generate_ngrams_range(x, n_range=(3, 3)))\n",
    "\n",
    "# Find matches\n",
    "matches = find_ngram_matches(query_metaphoneA, query_metaphoneB, threshold=50)\n",
    "print(matches)\n"
   ]
  }
 ],
 "metadata": {
  "kernelspec": {
   "display_name": ".venv",
   "language": "python",
   "name": "python3"
  },
  "language_info": {
   "codemirror_mode": {
    "name": "ipython",
    "version": 3
   },
   "file_extension": ".py",
   "mimetype": "text/x-python",
   "name": "python",
   "nbconvert_exporter": "python",
   "pygments_lexer": "ipython3",
   "version": "3.12.4"
  }
 },
 "nbformat": 4,
 "nbformat_minor": 2
}
