{
 "cells": [
  {
   "cell_type": "code",
   "execution_count": 19,
   "metadata": {},
   "outputs": [],
   "source": [
    "import pandas as pd\n",
    "import numpy as np\n",
    "import pickle \n",
    "import os"
   ]
  },
  {
   "cell_type": "code",
   "execution_count": 20,
   "metadata": {},
   "outputs": [
    {
     "name": "stdout",
     "output_type": "stream",
     "text": [
      "0        JAN JAGRAN TIMES\n",
      "1        JAGRAN CITY PLUS\n",
      "2         SAMPURNA JAGRAN\n",
      "3           DAINIK JAGRAN\n",
      "4           VISHWA JAGRAN\n",
      "               ...       \n",
      "21394        KAIWART AWAZ\n",
      "21395     SARBAHARAR AWAZ\n",
      "21396      SHRAMIKER AWAZ\n",
      "21397          SOBAR AWAZ\n",
      "21398        AWAZ AAP TAK\n",
      "Name: Title Name, Length: 10790, dtype: object\n"
     ]
    }
   ],
   "source": [
    "\n",
    "# Step 1: Open the file in read-binary mode\n",
    "with open('data.pkl', 'rb') as file:\n",
    "    # Step 2: Load the data from the file\n",
    "    data = pickle.load(file)\n",
    "\n",
    "# Now, `data` contains the deserialized Python object\n",
    "print(data)\n"
   ]
  },
  {
   "cell_type": "code",
   "execution_count": 21,
   "metadata": {},
   "outputs": [
    {
     "name": "stdout",
     "output_type": "stream",
     "text": [
      "0        jan jagran times\n",
      "1        jagran city plus\n",
      "2         sampurna jagran\n",
      "3           dainik jagran\n",
      "4           vishwa jagran\n",
      "               ...       \n",
      "21394        kaiwart awaz\n",
      "21395     sarbaharar awaz\n",
      "21396      shramiker awaz\n",
      "21397          sobar awaz\n",
      "21398        awaz aap tak\n",
      "Name: Title Name, Length: 10790, dtype: object\n"
     ]
    }
   ],
   "source": [
    "data = data.str.lower()\n",
    "print(data)"
   ]
  },
  {
   "cell_type": "code",
   "execution_count": 22,
   "metadata": {},
   "outputs": [],
   "source": [
    "data = pd.DataFrame(data)\n",
    "data = data.drop_duplicates().dropna()"
   ]
  },
  {
   "cell_type": "code",
   "execution_count": 23,
   "metadata": {},
   "outputs": [
    {
     "data": {
      "text/plain": [
       "(10790, 1)"
      ]
     },
     "execution_count": 23,
     "metadata": {},
     "output_type": "execute_result"
    }
   ],
   "source": [
    "data.shape"
   ]
  },
  {
   "cell_type": "code",
   "execution_count": 24,
   "metadata": {},
   "outputs": [],
   "source": [
    "data.rename(columns={'Title Name': 'title'}, inplace=True)\n"
   ]
  },
  {
   "cell_type": "code",
   "execution_count": 25,
   "metadata": {},
   "outputs": [],
   "source": [
    "from langchain.text_splitter import RecursiveCharacterTextSplitter\n",
    "from langchain.schema import Document  # Import Document class\n",
    "\n",
    "# Initialize the text splitter\n",
    "text_splitter = RecursiveCharacterTextSplitter(chunk_size=500, chunk_overlap=50)\n",
    "\n",
    "# Assuming your DataFrame `data` has a column 'title' containing the titles or documents\n",
    "# Create a list of Document objects\n",
    "documents = [Document(page_content=row['title']) for index, row in data.iterrows()]\n",
    "\n",
    "# Split the documents\n",
    "split_docs = text_splitter.split_documents(documents)"
   ]
  },
  {
   "cell_type": "code",
   "execution_count": 26,
   "metadata": {},
   "outputs": [],
   "source": [
    "from langchain_ollama.embeddings import OllamaEmbeddings\n",
    "embeddings = OllamaEmbeddings(model =\"mxbai-embed-large\")"
   ]
  },
  {
   "cell_type": "code",
   "execution_count": 27,
   "metadata": {},
   "outputs": [],
   "source": [
    "from dotenv import load_dotenv\n",
    "load_dotenv()\n",
    "import os\n",
    "api_key = os.getenv(\"PINECONE_API_KEY\")"
   ]
  },
  {
   "cell_type": "code",
   "execution_count": 28,
   "metadata": {},
   "outputs": [],
   "source": [
    "from pinecone import Pinecone, ServerlessSpec\n",
    "index_name = \"sliftexsearch\"\n",
    "pc = Pinecone(api_key=api_key)\n",
    "index = pc.Index(index_name)"
   ]
  },
  {
   "cell_type": "code",
   "execution_count": 29,
   "metadata": {},
   "outputs": [
    {
     "name": "stderr",
     "output_type": "stream",
     "text": [
      "[nltk_data] Downloading package punkt to\n",
      "[nltk_data]     C:\\Users\\Debanjan\\AppData\\Roaming\\nltk_data...\n",
      "[nltk_data]   Package punkt is already up-to-date!\n",
      "100%|██████████| 10790/10790 [00:00<00:00, 29637.96it/s]\n"
     ]
    }
   ],
   "source": [
    "import nltk\n",
    "from pinecone_text.sparse import BM25Encoder\n",
    "\n",
    "# Download the necessary tokenizer data\n",
    "nltk.download('punkt')\n",
    "nltk.data.path.append(r'C:\\Users\\Debanjan\\AppData\\Roaming\\nltk_data')\n",
    "\n",
    "# Initialize the BM25 encoder\n",
    "encoder = BM25Encoder().default()\n",
    "\n",
    "# Your data and BM25 encoding process\n",
    "# Ensure the data column is converted to a list of strings\n",
    "corpus = data['title'].tolist()  # Convert the column to a list\n",
    "\n",
    "# Fit the encoder\n",
    "encoder.fit(corpus)\n",
    "\n",
    "# Save the encoded data\n",
    "encoder.dump(\"document.json\")\n"
   ]
  },
  {
   "cell_type": "code",
   "execution_count": 30,
   "metadata": {},
   "outputs": [],
   "source": [
    "encoded_docs = BM25Encoder().load(\"document.json\")"
   ]
  },
  {
   "cell_type": "code",
   "execution_count": 53,
   "metadata": {},
   "outputs": [],
   "source": [
    "alpha = 0.7\n"
   ]
  },
  {
   "cell_type": "code",
   "execution_count": 55,
   "metadata": {},
   "outputs": [],
   "source": [
    "from langchain_community.retrievers import PineconeHybridSearchRetriever\n",
    "retriever = PineconeHybridSearchRetriever(index=index, sparse_encoder=encoded_docs, embeddings=embeddings , top_k=20 )"
   ]
  },
  {
   "cell_type": "code",
   "execution_count": 38,
   "metadata": {},
   "outputs": [
    {
     "data": {
      "text/plain": [
       "PineconeHybridSearchRetriever(embeddings=OllamaEmbeddings(model='mxbai-embed-large', base_url=None, client_kwargs={}), sparse_encoder=<pinecone_text.sparse.bm25_encoder.BM25Encoder object at 0x0000024E2F1AB6E0>, index=<pinecone.data.index.Index object at 0x0000024E7E792150>, top_k=20)"
      ]
     },
     "execution_count": 38,
     "metadata": {},
     "output_type": "execute_result"
    }
   ],
   "source": [
    "retriever"
   ]
  },
  {
   "cell_type": "code",
   "execution_count": 33,
   "metadata": {},
   "outputs": [
    {
     "name": "stderr",
     "output_type": "stream",
     "text": [
      "100%|██████████| 338/338 [07:23<00:00,  1.31s/it]\n"
     ]
    }
   ],
   "source": [
    "retriever.add_texts(\n",
    "    corpus\n",
    ")"
   ]
  },
  {
   "cell_type": "code",
   "execution_count": 49,
   "metadata": {},
   "outputs": [
    {
     "data": {
      "text/plain": [
       "[Document(metadata={'score': 0.528316438}, page_content='jagran'),\n",
       " Document(metadata={'score': 0.514177859}, page_content='dainik jagran'),\n",
       " Document(metadata={'score': 0.486823589}, page_content='prod jagran'),\n",
       " Document(metadata={'score': 0.475773036}, page_content='punjabi jagran'),\n",
       " Document(metadata={'score': 0.471637636}, page_content='youth jagran'),\n",
       " Document(metadata={'score': 0.471027642}, page_content='jat jagran'),\n",
       " Document(metadata={'score': 0.468507528}, page_content='brahman jagran'),\n",
       " Document(metadata={'score': 0.467536777}, page_content='adhyapak jagran'),\n",
       " Document(metadata={'score': 0.467157513}, page_content='ginvani jagran'),\n",
       " Document(metadata={'score': 0.462170929}, page_content='patrakar jagran'),\n",
       " Document(metadata={'score': 0.461282462}, page_content='balmik jagran'),\n",
       " Document(metadata={'score': 0.461194038}, page_content='rastra jagran'),\n",
       " Document(metadata={'score': 0.460967928}, page_content='jain jagran'),\n",
       " Document(metadata={'score': 0.457330912}, page_content='khatik jagran'),\n",
       " Document(metadata={'score': 0.456055135}, page_content='deepotsav jagran'),\n",
       " Document(metadata={'score': 0.455738723}, page_content='suprabhat jagran'),\n",
       " Document(metadata={'score': 0.451716483}, page_content='himalaya jagran'),\n",
       " Document(metadata={'score': 0.451537311}, page_content='shramik jagran'),\n",
       " Document(metadata={'score': 0.449993104}, page_content='vyavsai jagran'),\n",
       " Document(metadata={'score': 0.44907707}, page_content='jharkhand jagran')]"
      ]
     },
     "execution_count": 49,
     "metadata": {},
     "output_type": "execute_result"
    }
   ],
   "source": [
    "retriever.invoke(\"dainic jagran\")"
   ]
  },
  {
   "cell_type": "code",
   "execution_count": null,
   "metadata": {},
   "outputs": [],
   "source": []
  }
 ],
 "metadata": {
  "kernelspec": {
   "display_name": ".venv",
   "language": "python",
   "name": "python3"
  },
  "language_info": {
   "codemirror_mode": {
    "name": "ipython",
    "version": 3
   },
   "file_extension": ".py",
   "mimetype": "text/x-python",
   "name": "python",
   "nbconvert_exporter": "python",
   "pygments_lexer": "ipython3",
   "version": "3.12.4"
  }
 },
 "nbformat": 4,
 "nbformat_minor": 2
}
